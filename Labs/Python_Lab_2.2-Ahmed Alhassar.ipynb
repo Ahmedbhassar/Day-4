{
 "cells": [
  {
   "cell_type": "markdown",
   "metadata": {
    "id": "E9Y5ss1ZYj3r"
   },
   "source": [
    "# Python_Lab_2.2\n"
   ]
  },
  {
   "cell_type": "markdown",
   "metadata": {
    "id": "Q1kAqc72Yj3t"
   },
   "source": [
    "### Task 1\n",
    "1. Write a program that prompts the user to enter two numbers and prints their division. Handle cases where the user enters non-numeric values or attempts to divide by zero using a try-except block.\n"
   ]
  },
  {
   "cell_type": "code",
   "execution_count": 3,
   "metadata": {
    "id": "H-xyoRTVYj3t"
   },
   "outputs": [
    {
     "name": "stdout",
     "output_type": "stream",
     "text": [
      "Enter a valid number\n"
     ]
    }
   ],
   "source": [
    "try:\n",
    "    num1  = int(input(\"Enter number 1: \"))\n",
    "    num2  = int(input(\"Enter number 2: \"))  \n",
    "\n",
    "    result = num1 / num2\n",
    "\n",
    "except ValueError:\n",
    "    print(\"Enter a valid number\")\n",
    "except ZeroDivisionError:\n",
    "    print(\"The denominator cannot be zero\")\n",
    "else:\n",
    "    print(f\"The result is: {result}\")"
   ]
  },
  {
   "cell_type": "markdown",
   "metadata": {
    "id": "CPWcDSC_Yj3u"
   },
   "source": [
    "### Task 2\n",
    "- Use \"Random\" library to do the following:\n",
    "    1. Create a list of random numbers using list comprehension.\n",
    "    2. Create a list of squares of the even numbers from random numbers using list comprehension.\n",
    "    3. Create a list of tuples (number, square) for random numbers using list comprehension."
   ]
  },
  {
   "cell_type": "code",
   "execution_count": 6,
   "metadata": {
    "id": "Yfq-i6CeYj3u"
   },
   "outputs": [
    {
     "name": "stdout",
     "output_type": "stream",
     "text": [
      "The random numbers list is: [17, 31, 43, 17, 5, 14, 3, 3, 32, 24]\n",
      "The list of sqared evens generated from the random numbers is: [196, 1024, 576]\n",
      "The list of numbers and their squares: [(17, 289), (31, 961), (43, 1849), (17, 289), (5, 25), (14, 196), (3, 9), (3, 9), (32, 1024), (24, 576)]\n"
     ]
    }
   ],
   "source": [
    "import random\n",
    "\n",
    "random_numbers = [random.randint(1, 50) for i in range(1, 11)]\n",
    "print(f\"The random numbers list is: {random_numbers}\")\n",
    "squared_evens = [num ** 2 for num in random_numbers if num % 2 == 0]\n",
    "print(f\"The list of sqared evens generated from the random numbers is: {squared_evens}\")\n",
    "list_of_tuples = [(x, x ** 2) for x in random_numbers]\n",
    "print(f\"The list of numbers and their squares: {list_of_tuples}\")"
   ]
  },
  {
   "cell_type": "markdown",
   "metadata": {
    "id": "jYdOq46NYj3u"
   },
   "source": [
    "### Task 3\n",
    "- Create a dictionary where the keys are numbers from 1 to 5 and the values are list of their squares and cubes.\n",
    "\n",
    "  - **hint**: use dictionary of list comprehension.\n",
    "\n",
    "- Create a dictionary from two lists (one with keys and one with values) using dictionary comprehension.\n",
    "\n"
   ]
  },
  {
   "cell_type": "code",
   "execution_count": 13,
   "metadata": {
    "id": "IEnsiNmCYj3u"
   },
   "outputs": [
    {
     "name": "stdout",
     "output_type": "stream",
     "text": [
      "The dictiorany with keys from 1 to 5 and their values: {1: [1, 1], 2: [4, 8], 3: [9, 27], 4: [16, 64], 5: [25, 125]}\n",
      "The dictionary with peoples id's and their names is: {21: 'Ahmed', 1: 'Bader', 22: 'Abdulaziz'}\n"
     ]
    }
   ],
   "source": [
    "numbers = {x : [x ** 2, x ** 3] for x in range(1, 6)}\n",
    "print(f\"The dictiorany with keys from 1 to 5 and their values: {numbers}\")\n",
    "names = ['Ahmed', 'Bader', 'Abdulaziz']\n",
    "id = [21, 1, 22]\n",
    "\n",
    "people = {id[x] : names[x] for x in range(len(id))}\n",
    "print(f\"The dictionary with peoples id's and their names is: {people}\")"
   ]
  },
  {
   "cell_type": "markdown",
   "metadata": {
    "id": "6T9TCQ8SYj3v"
   },
   "source": [
    "### Task 4\n",
    "- Given a dictionary where keys are student names and values are lists of their scores, write a function that updates the scores of students who have achieved a perfect score (100) by adding a bonus of 5 points to each score. Use dictionary comprehension to achieve this.\n",
    "\n",
    "    - Implement the function add_bonus_to_perfect_scores(student_scores) that adds a bonus of 5 points to each score of students who have achieved a perfect score (100)."
   ]
  },
  {
   "cell_type": "code",
   "execution_count": 16,
   "metadata": {
    "id": "T3R_VsQpYj3v"
   },
   "outputs": [
    {
     "name": "stdout",
     "output_type": "stream",
     "text": [
      "The dictionary before using the method: {'Ahmed': [95, 80, 100], 'Ali': [88, 76, 92]}\n",
      "The dictionary after using the method: {'Ahmed': [100, 85, 105], 'Ali': [88, 76, 92]}\n"
     ]
    }
   ],
   "source": [
    "def add_bonus(students):\n",
    "    return {student : [score + 5 if 100 in scores else score for score in scores]\n",
    "            for student, scores in students.items()\n",
    "            }\n",
    "\n",
    "\n",
    "students = {\n",
    "    \"Ahmed\": [95, 80, 100],\n",
    "    \"Ali\": [88, 76, 92]\n",
    "}\n",
    "print(f\"The dictionary before using the method: {students}\")\n",
    "updated_students = add_bonus(students)\n",
    "print(f\"The dictionary after using the method: {updated_students}\")\n"
   ]
  },
  {
   "cell_type": "markdown",
   "metadata": {
    "id": "rJkOEFAwYj3v"
   },
   "source": []
  }
 ],
 "metadata": {
  "colab": {
   "provenance": []
  },
  "kernelspec": {
   "display_name": "Python 3",
   "language": "python",
   "name": "python3"
  },
  "language_info": {
   "codemirror_mode": {
    "name": "ipython",
    "version": 3
   },
   "file_extension": ".py",
   "mimetype": "text/x-python",
   "name": "python",
   "nbconvert_exporter": "python",
   "pygments_lexer": "ipython3",
   "version": "3.12.3"
  }
 },
 "nbformat": 4,
 "nbformat_minor": 0
}
